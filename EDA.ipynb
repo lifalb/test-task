{
 "cells": [
  {
   "cell_type": "code",
   "execution_count": 1,
   "id": "deba59b2",
   "metadata": {},
   "outputs": [],
   "source": [
    "from tqdm import tqdm\n",
    "import pandas as pd\n",
    "import regex"
   ]
  },
  {
   "cell_type": "code",
   "execution_count": 2,
   "id": "f210feaa",
   "metadata": {},
   "outputs": [],
   "source": [
    "with open('deribit_BTC-PERPETUAL_20230130_depth10.txt', 'r') as f:\n",
    "    data = f.read()\n",
    "data_splited = data.split('\\n')\n",
    "data_splited_ = data_splited[2:-2]"
   ]
  },
  {
   "cell_type": "code",
   "execution_count": 3,
   "id": "b83d94b7",
   "metadata": {},
   "outputs": [
    {
     "name": "stderr",
     "output_type": "stream",
     "text": [
      "\r",
      "  0%|                                                                                                                           | 0/219572735 [00:00<?, ?it/s]"
     ]
    }
   ],
   "source": [
    "total_records = len(data_splited_)\n",
    "i = 0\n",
    "pbar = tqdm(total=total_records)\n",
    "OrderbookSnapshots_records = []\n",
    "Trades_records = []"
   ]
  },
  {
   "cell_type": "code",
   "execution_count": 4,
   "id": "54c8fa99",
   "metadata": {
    "scrolled": true
   },
   "outputs": [
    {
     "name": "stderr",
     "output_type": "stream",
     "text": [
      "100%|███████████████████████████████████████████████████████████████████████████████████████████████████████| 219572735/219572735 [11:50<00:00, 507131.79it/s]"
     ]
    }
   ],
   "source": [
    "while i < total_records:\n",
    "    dct = {}\n",
    "    record = data_splited_[i]\n",
    "    type = record.split('type: ')[1].split(' symbol')[0]\n",
    "    \n",
    "    if type == 'OrderbookSnapshot':\n",
    "        dct['receive_time'] = record.split('receive_time: ')[1].split(' server_time')[0]\n",
    "        dct['server_time'] = record.split('server_time: ')[1].split(' orderbook')[0]\n",
    "        dct['ask_size'] = int(record.split('ask_size: ')[1])\n",
    "        dct['bid_size'] = int(record.split('bid_size: ')[1].split(' ask_size')[0])\n",
    "        \n",
    "        \n",
    "        ################ PROCESS ASKS #########################\n",
    "        dct['asks_price'] = []\n",
    "        dct['asks_volume'] = []\n",
    "        for _ in range(min(dct['ask_size'], 10)):\n",
    "            i += 1\n",
    "            pbar.update(1)\n",
    "            \n",
    "            record = data_splited_[i]\n",
    "            dct['asks_price'].append(float(record.split('Ask price: ')[1].split(' volume')[0]))\n",
    "            dct['asks_volume'].append(float(record.split('volume: ')[1]))\n",
    "        \n",
    "        if min(dct['ask_size'], 10) != 10:\n",
    "            dct['asks_price'].extend([-1]*(10 - dct['ask_size']))\n",
    "            dct['asks_volume'].extend([-1]*(10 - dct['ask_size']))\n",
    "            \n",
    "        ################ PROCESS BIDS #########################\n",
    "        dct['bids_price'] = []\n",
    "        dct['bids_volume'] = []\n",
    "        for _ in range(min(dct['bid_size'], 10)):\n",
    "            i += 1\n",
    "            pbar.update(1)\n",
    "            \n",
    "            record = data_splited_[i]\n",
    "            dct['bids_price'].append(float(record.split('Bid price: ')[1].split(' volume')[0]))\n",
    "            dct['bids_volume'].append(float(record.split('volume: ')[1]))\n",
    "            \n",
    "        if min(dct['bid_size'], 10) != 10:\n",
    "            dct['bids_price'].extend([-1]*(10 - dct['bid_size']))\n",
    "            dct['bids_volume'].extend([-1]*(10 - dct['bid_size']))\n",
    "        \n",
    "        OrderbookSnapshots_records.append(dct)\n",
    "        \n",
    "        i += 2\n",
    "        pbar.update(2)\n",
    "    elif type == 'Trades':\n",
    "        \n",
    "        dct['receive_time'] = record.split('receive_time: ')[1].split(' server_time')[0]\n",
    "        dct['server_time'] = record.split('server_time: ')[1].split(' trades')[0]\n",
    "        trades = data_splited_[i].split('trades: ')[1]\n",
    "        if len(regex.findall('Bid', trades)) == 1:\n",
    "            dct['type'] = 'Bid'\n",
    "        elif len(regex.findall('Ask', trades)) == 1:\n",
    "            dct['type'] = 'Ask'\n",
    "        dct['price'] = float(trades.split()[3])\n",
    "        dct['volume'] = float(trades.split()[4])\n",
    "        \n",
    "        Trades_records.append(dct)\n",
    "        \n",
    "        i += 1\n",
    "        pbar.update(1)"
   ]
  },
  {
   "cell_type": "code",
   "execution_count": 5,
   "id": "af8915b8",
   "metadata": {},
   "outputs": [],
   "source": [
    "df_dct = {'receive_time': [x['receive_time'] for x in OrderbookSnapshots_records],\n",
    "              'server_time': [x['server_time'] for x in OrderbookSnapshots_records],\n",
    "              'ask_size': [x['ask_size'] for x in OrderbookSnapshots_records],\n",
    "              'bid_size': [x['bid_size'] for x in OrderbookSnapshots_records]}\n",
    "\n",
    "for i in range(10):\n",
    "    df_dct[f'ask_price_{i}']  = [x['asks_price'][i] for x in OrderbookSnapshots_records]\n",
    "    df_dct[f'ask_volume_{i}'] = [x['asks_volume'][i] for x in OrderbookSnapshots_records]\n",
    "for i in range(10):\n",
    "    df_dct[f'bid_price_{i}']  = [x['bids_price'][i] for x in OrderbookSnapshots_records]\n",
    "    df_dct[f'bid_volume_{i}'] = [x['bids_volume'][i] for x in OrderbookSnapshots_records]\n",
    "    \n",
    "orderbook_df = pd.DataFrame(df_dct)"
   ]
  },
  {
   "cell_type": "code",
   "execution_count": 6,
   "id": "27a61890",
   "metadata": {},
   "outputs": [],
   "source": [
    "df_dct = {'receive_time': [x['receive_time'] for x in Trades_records],\n",
    "          'server_time': [x['server_time'] for x in Trades_records],\n",
    "          'type': [x['type'] for x in Trades_records],\n",
    "          'price': [x['price'] for x in Trades_records],\n",
    "          'volume': [x['volume'] for x in Trades_records]}\n",
    "    \n",
    "trades_df = pd.DataFrame(df_dct)"
   ]
  },
  {
   "cell_type": "code",
   "execution_count": 9,
   "id": "d45055a2",
   "metadata": {},
   "outputs": [],
   "source": [
    "orderbook_df.to_parquet('deribit_ob.parquet')"
   ]
  },
  {
   "cell_type": "code",
   "execution_count": 10,
   "id": "3296d52a",
   "metadata": {},
   "outputs": [],
   "source": [
    "trades_df.to_parquet('deribit_trades.parquet')"
   ]
  }
 ],
 "metadata": {
  "kernelspec": {
   "display_name": "Python 3 (ipykernel)",
   "language": "python",
   "name": "python3"
  },
  "language_info": {
   "codemirror_mode": {
    "name": "ipython",
    "version": 3
   },
   "file_extension": ".py",
   "mimetype": "text/x-python",
   "name": "python",
   "nbconvert_exporter": "python",
   "pygments_lexer": "ipython3",
   "version": "3.8.13"
  }
 },
 "nbformat": 4,
 "nbformat_minor": 5
}
